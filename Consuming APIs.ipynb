{
 "cells": [
  {
   "cell_type": "code",
   "execution_count": 4,
   "id": "06cc6922-6540-4ade-8aed-db90c82bfb03",
   "metadata": {},
   "outputs": [],
   "source": [
    "from datetime import date, datetime, timedelta\n",
    "\n",
    "import requests\n",
    "import pandas as pd\n",
    "import numpy as np\n",
    "from pprint import pprint\n",
    "import seaborn as sns\n",
    "from matplotlib import pyplot as plt\n",
    "from matplotlib.ticker import FormatStrFormatter\n",
    "\n",
    "%matplotlib inline\n",
    "sns.set_palette('muted')\n",
    "sns.set_style('white')"
   ]
  },
  {
   "cell_type": "code",
   "execution_count": 5,
   "id": "3bce2788-8a9e-4cf9-a344-4d86582c7dae",
   "metadata": {},
   "outputs": [
    {
     "data": {
      "text/plain": [
       "(-0.11485, 51.51417)"
      ]
     },
     "execution_count": 5,
     "metadata": {},
     "output_type": "execute_result"
    }
   ],
   "source": [
    "# write your solution here\n",
    "def geocode_location(city, country):\n",
    "    url = 'https://geocode.xyz/'\n",
    "    api_key = '108980271663949389508x34567'\n",
    "    json=1\n",
    "    req_url = f\"{url},{city},{country}?json={json}&auth={api_key}\"\n",
    "    r = requests.get(req_url)\n",
    "    result = r.json()\n",
    "    coord = (float(result['longt']), float(result['latt']))\n",
    "    return coord\n",
    "geocode_location(\"london\", \"united kingdom\")"
   ]
  },
  {
   "cell_type": "code",
   "execution_count": null,
   "id": "5f78c543-1eb8-4586-a3c1-c62f3774fbcb",
   "metadata": {},
   "outputs": [],
   "source": [
    "# helper function for 15-day date range\n",
    "def get_date_range(birthday):\n",
    "    return {'start_date': birthday - timedelta(days=7),\n",
    "           'end_date':birthday + timedelta(days=7)}"
   ]
  },
  {
   "cell_type": "code",
   "execution_count": null,
   "id": "96f4a3d2-60f6-46d2-9200-62c2beb13d7a",
   "metadata": {},
   "outputs": [],
   "source": [
    " def get_api_response(latitude,longitude,birthday):\n",
    "    url = \"https://archive-api.open-meteo.com/v1/archive\"    \n",
    "    date_range = get_date_range(birthday)\n",
    "    print(f\"start range:{date_range['start_date']}, end_date:{date_range['end_date']}\")    \n",
    "    params = {'latitude':latitude,\n",
    "             'longitude':longitude,\n",
    "             'start_date':date_range['start_date'],\n",
    "             'end_date': date_range['end_date'],\n",
    "             'daily':['temperature_2m_max','temperature_2m_min','apparent_temperature_max','apparent_temperature_min','precipitation_sum'],\n",
    "              'timezone':'auto',\n",
    "              'temperature_unit':'fahrenheit',\n",
    "              'precipitation_unit':'inch'\n",
    "             }\n",
    "    r = requests.get(url, params=params)\n",
    "    response = r.json()\n",
    "    return response"
   ]
  },
  {
   "cell_type": "code",
   "execution_count": null,
   "id": "1c7748f0-77c1-45b6-bce1-a54604822aa6",
   "metadata": {},
   "outputs": [],
   "source": [
    "def get_all_response_objects(latitude, longitude, birthday):\n",
    "    responses = []    \n",
    "    for year in range(1960,2023):\n",
    "        request_date = date(year, birthday.month, birthday.day)\n",
    "        response = get_api_response(latitude,longitude, request_date)\n",
    "        responses.append(response)\n",
    "    return responses"
   ]
  },
  {
   "cell_type": "code",
   "execution_count": null,
   "id": "b65df0c8-5b27-4a2d-ab76-e48b4d56544f",
   "metadata": {
    "scrolled": true
   },
   "outputs": [],
   "source": [
    "birthday = datetime.strptime('10-19-1980', '%m-%d-%Y').date()\n",
    "print(birthday)\n",
    "api_return = get_api_response('42.50496','-83.15053',birthday)\n",
    "pprint(api_return)"
   ]
  },
  {
   "cell_type": "code",
   "execution_count": null,
   "id": "e79232e8-d526-408f-af9b-c30961e4da77",
   "metadata": {},
   "outputs": [],
   "source": [
    "birthday = datetime.strptime('10-19-1991', '%m-%d-%Y').date()\n",
    "print(birthday)\n",
    "api_return_all = get_all_response_objects('42.50496','-83.15053',birthday)\n",
    "pprint(api_return_all)\n"
   ]
  },
  {
   "cell_type": "markdown",
   "id": "ccef3903",
   "metadata": {},
   "source": [
    "def get_data():\n",
    "    birthday = get_user_birthday()\n",
    "    location = get_user_city_of_birth()\n",
    "    def get_all_response_objects(latitude, longitude, birthday):\n",
    "        responses = []    \n",
    "        for year in range(1960,2023):\n",
    "            request_date = date(year, birthday.month, birthday.day)\n",
    "            response = get_api_response(latitude,longitude, request_date)\n",
    "            responses.append(response)\n",
    "        return responses\n",
    "    def get_api_response(latitude,longitude,birthday):\n",
    "        url = \"https://archive-api.open-meteo.com/v1/archive\"    \n",
    "        date_range = get_date_range(birthday)\n",
    "        print(f\"start range:{date_range['start_date']}, end_date:{date_range['end_date']}\")    \n",
    "        params = {'latitude':latitude,\n",
    "                 'longitude':longitude,\n",
    "                 'start_date':date_range['start_date'],\n",
    "                 'end_date': date_range['end_date'],\n",
    "                 'daily':['temperature_2m_max','temperature_2m_min','apparent_temperature_max','apparent_temperature_min','precipitation_sum'],\n",
    "                  'timezone':'auto',\n",
    "                  'temperature_unit':'fahrenheit',\n",
    "                  'precipitation_unit':'inch'\n",
    "                 }\n",
    "        r = requests.get(url, params=params)\n",
    "        response = r.json()\n",
    "        return response\n",
    "    def get_date_range(birthday):\n",
    "        return {'start_date': birthday - timedelta(days=7),\n",
    "               'end_date':birthday + timedelta(days=7)}\n",
    "def get_user_birthday():\n",
    "    birthday = input('Enter your birthday (MM/DD/YYYY): ')\n",
    "    return datetime.strptime(birthday, \"%m/%d/%Y\")\n",
    "\n",
    "def get_user_city_of_birth():\n",
    "    city = input('Enter the city you were born in: ')\n",
    "    country = input('Enter the country you were born in: ')\n",
    "    return city , country\n",
    "df = get_data()\n",
    "\n",
    "df"
   ]
  },
  {
   "cell_type": "code",
   "execution_count": null,
   "id": "fe7de23c-f07c-4751-b207-c160b93dd75c",
   "metadata": {
    "scrolled": true
   },
   "outputs": [],
   "source": [
    "def parse_json_response(responses):\n",
    "    df=pd.DataFrame(responses)\n",
    "    df = df.join(pd.json_normalize(df['daily'])).drop(columns=['daily'])   \n",
    "    display(df)\n",
    "parse_json_response(api_return_all)"
   ]
  },
  {
   "cell_type": "code",
   "execution_count": null,
   "id": "e15c1004-9fb2-4c25-b0a2-3baeef3668e3",
   "metadata": {},
   "outputs": [],
   "source": [
    "def parse_json_response(responses):\n",
    "    df = pd.DataFrame(responses)\n",
    "    df = df.join(pd.json_normalize(df['daily'])).drop(columns=['daily'])\n",
    "    measures = [\"temperature_2m_max\", \"temperature_2m_min\", \"apparent_temperature_max\", \"apparent_temperature_min\", \"precipitation_sum\"]      \n",
    "    for col in measures:\n",
    "         df[f\"{col}_mean\"] = df[col].apply(np.mean)\n",
    "    #chop up time to add year column.\n",
    "    df['year'] = df['time'].apply(lambda x: x[7][:4])\n",
    "    df = df[['year','temperature_2m_max_mean','temperature_2m_min_mean','apparent_temperature_max_mean','apparent_temperature_min_mean','precipitation_sum_mean']]    \n",
    "    return df    \n",
    "    display(df)\n",
    "df1 = parse_json_response(api_return_all)\n",
    "df1"
   ]
  },
  {
   "cell_type": "code",
   "execution_count": null,
   "id": "927bbe27-8308-4707-bcb4-999a8c524d11",
   "metadata": {},
   "outputs": [],
   "source": [
    "import matplotlib.pyplot as plt\n",
    "\n",
    "# Assuming df is the parsed DataFrame returned by the parse_json_response function\n",
    "\n",
    "# Plotting temperature data\n",
    "plt.figure(figsize=(10, 6))\n",
    "\n",
    "# Plotting mean temperatures over the years\n",
    "plt.plot(df1['year'], df1['temperature_2m_max_mean'], label='Max Temperature', color='red')\n",
    "plt.plot(df1['year'], df1['temperature_2m_min_mean'], label='Min Temperature', color='blue')\n",
    "plt.plot(df1['year'], df1['apparent_temperature_max_mean'], label='Max Apparent Temperature', color='orange')\n",
    "plt.plot(df1['year'], df1['apparent_temperature_min_mean'], label='Min Apparent Temperature', color='green')\n",
    "\n",
    "plt.xlabel('Year')\n",
    "plt.ylabel('Temperature (°C)')\n",
    "plt.title('Change of Temperature Over Years')\n",
    "plt.legend()\n",
    "plt.grid(True)\n",
    "plt.xticks(rotation=45)\n",
    "plt.tight_layout()\n",
    "plt.show()\n"
   ]
  },
  {
   "cell_type": "code",
   "execution_count": null,
   "id": "b2c1ab68-b720-4c50-8755-6ab37c88a797",
   "metadata": {
    "scrolled": false
   },
   "outputs": [],
   "source": [
    "import matplotlib.pyplot as plt\n",
    "\n",
    "# Plotting precipitation data\n",
    "plt.figure(figsize=(10, 6))\n",
    "\n",
    "# Plotting mean precipitation over the years\n",
    "plt.plot(df1['year'], df1['precipitation_sum_mean'], label='Mean Precipitation', color='blue')\n",
    "\n",
    "plt.xlabel('Year')\n",
    "plt.ylabel('Precipitation (mm)')\n",
    "plt.title('Change of Precipitation Over Years')\n",
    "plt.legend()\n",
    "plt.grid(True)\n",
    "plt.xticks(rotation=45)\n",
    "plt.tight_layout()\n",
    "plt.show()\n"
   ]
  },
  {
   "cell_type": "markdown",
   "id": "9c378f0a",
   "metadata": {},
   "source": [
    "each variable has high and low outliers with the lowest point slightly rising each year but for the most part the temperature remains in expected range"
   ]
  }
 ],
 "metadata": {
  "kernelspec": {
   "display_name": "Python 3 (ipykernel)",
   "language": "python",
   "name": "python3"
  },
  "language_info": {
   "codemirror_mode": {
    "name": "ipython",
    "version": 3
   },
   "file_extension": ".py",
   "mimetype": "text/x-python",
   "name": "python",
   "nbconvert_exporter": "python",
   "pygments_lexer": "ipython3",
   "version": "3.11.5"
  }
 },
 "nbformat": 4,
 "nbformat_minor": 5
}
